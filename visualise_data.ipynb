{
 "cells": [
  {
   "cell_type": "code",
   "execution_count": 1,
   "metadata": {},
   "outputs": [
    {
     "name": "stdout",
     "output_type": "stream",
     "text": [
      "Populating the interactive namespace from numpy and matplotlib\n"
     ]
    }
   ],
   "source": [
    "import pandas as pd\n",
    "%pylab inline"
   ]
  },
  {
   "cell_type": "code",
   "execution_count": 2,
   "metadata": {},
   "outputs": [],
   "source": [
    "df = pd.read_csv('data/train.csv')"
   ]
  },
  {
   "cell_type": "code",
   "execution_count": 3,
   "metadata": {},
   "outputs": [
    {
     "data": {
      "text/html": [
       "<div>\n",
       "<style scoped>\n",
       "    .dataframe tbody tr th:only-of-type {\n",
       "        vertical-align: middle;\n",
       "    }\n",
       "\n",
       "    .dataframe tbody tr th {\n",
       "        vertical-align: top;\n",
       "    }\n",
       "\n",
       "    .dataframe thead th {\n",
       "        text-align: right;\n",
       "    }\n",
       "</style>\n",
       "<table border=\"1\" class=\"dataframe\">\n",
       "  <thead>\n",
       "    <tr style=\"text-align: right;\">\n",
       "      <th></th>\n",
       "      <th>Unnamed: 0</th>\n",
       "      <th>promptId</th>\n",
       "      <th>uniqueId</th>\n",
       "      <th>essay</th>\n",
       "      <th>evaluator_rating</th>\n",
       "    </tr>\n",
       "  </thead>\n",
       "  <tbody>\n",
       "    <tr>\n",
       "      <th>0</th>\n",
       "      <td>0</td>\n",
       "      <td>1</td>\n",
       "      <td>1_323</td>\n",
       "      <td>At present age, our education system is not go...</td>\n",
       "      <td>3.0</td>\n",
       "    </tr>\n",
       "    <tr>\n",
       "      <th>1</th>\n",
       "      <td>1</td>\n",
       "      <td>1</td>\n",
       "      <td>1_238</td>\n",
       "      <td>I am agree the tightly defined curriculum of o...</td>\n",
       "      <td>4.0</td>\n",
       "    </tr>\n",
       "    <tr>\n",
       "      <th>2</th>\n",
       "      <td>2</td>\n",
       "      <td>1</td>\n",
       "      <td>1_212</td>\n",
       "      <td>I strongly agree with the statement that tight...</td>\n",
       "      <td>2.0</td>\n",
       "    </tr>\n",
       "    <tr>\n",
       "      <th>3</th>\n",
       "      <td>3</td>\n",
       "      <td>1</td>\n",
       "      <td>1_117</td>\n",
       "      <td>Our education system is nice quitely but i dis...</td>\n",
       "      <td>2.0</td>\n",
       "    </tr>\n",
       "    <tr>\n",
       "      <th>4</th>\n",
       "      <td>4</td>\n",
       "      <td>1</td>\n",
       "      <td>1_229</td>\n",
       "      <td>i am totally agree with the statement that tig...</td>\n",
       "      <td>3.0</td>\n",
       "    </tr>\n",
       "  </tbody>\n",
       "</table>\n",
       "</div>"
      ],
      "text/plain": [
       "   Unnamed: 0  promptId uniqueId  \\\n",
       "0           0         1    1_323   \n",
       "1           1         1    1_238   \n",
       "2           2         1    1_212   \n",
       "3           3         1    1_117   \n",
       "4           4         1    1_229   \n",
       "\n",
       "                                               essay  evaluator_rating  \n",
       "0  At present age, our education system is not go...               3.0  \n",
       "1  I am agree the tightly defined curriculum of o...               4.0  \n",
       "2  I strongly agree with the statement that tight...               2.0  \n",
       "3  Our education system is nice quitely but i dis...               2.0  \n",
       "4  i am totally agree with the statement that tig...               3.0  "
      ]
     },
     "execution_count": 3,
     "metadata": {},
     "output_type": "execute_result"
    }
   ],
   "source": [
    "df.head()"
   ]
  },
  {
   "cell_type": "code",
   "execution_count": 4,
   "metadata": {},
   "outputs": [
    {
     "data": {
      "text/plain": [
       "{0.0, 0.5, 1.0, 1.5, 2.0, 2.5, 3.0, 3.5, 4.0, 4.5, 5.0}"
      ]
     },
     "execution_count": 4,
     "metadata": {},
     "output_type": "execute_result"
    }
   ],
   "source": [
    "set(df['evaluator_rating'])"
   ]
  },
  {
   "cell_type": "code",
   "execution_count": 5,
   "metadata": {},
   "outputs": [
    {
     "data": {
      "text/plain": [
       "0       At present age, our education system is not go...\n",
       "1       I am agree the tightly defined curriculum of o...\n",
       "2       I strongly agree with the statement that tight...\n",
       "3       Our education system is nice quitely but i dis...\n",
       "4       i am totally agree with the statement that tig...\n",
       "                              ...                        \n",
       "1235    The entire world is in the race of producing a...\n",
       "1236    The race in the development of weapons are pro...\n",
       "1237    In an era where every second person hopes and ...\n",
       "1238    INTRODUCTION :Since the beginning of the time ...\n",
       "1239    \"To conquer a nation, first disarm its citizen...\n",
       "Name: essay, Length: 1240, dtype: object"
      ]
     },
     "execution_count": 5,
     "metadata": {},
     "output_type": "execute_result"
    }
   ],
   "source": [
    "df['essay']"
   ]
  },
  {
   "cell_type": "code",
   "execution_count": 6,
   "metadata": {},
   "outputs": [],
   "source": [
    "essay = df['essay'].values"
   ]
  },
  {
   "cell_type": "code",
   "execution_count": 7,
   "metadata": {},
   "outputs": [
    {
     "data": {
      "text/plain": [
       "1240"
      ]
     },
     "execution_count": 7,
     "metadata": {},
     "output_type": "execute_result"
    }
   ],
   "source": [
    "len(essay)"
   ]
  },
  {
   "cell_type": "code",
   "execution_count": 8,
   "metadata": {},
   "outputs": [],
   "source": [
    "essay = sorted(essay, key=len)"
   ]
  },
  {
   "cell_type": "code",
   "execution_count": 9,
   "metadata": {},
   "outputs": [
    {
     "data": {
      "text/plain": [
       "'It is true because technology become new addiction require now a days. In this time we are blind without any technology so the technology is important thing.Using the technology we meet any person in the whole world.Through technology we can share some message to the people also we can send information through the technology.'"
      ]
     },
     "execution_count": 9,
     "metadata": {},
     "output_type": "execute_result"
    }
   ],
   "source": [
    "essay[0]"
   ]
  },
  {
   "cell_type": "code",
   "execution_count": 10,
   "metadata": {},
   "outputs": [
    {
     "data": {
      "text/plain": [
       "'Standing in the tweenty-first century it has been rightly said, the rich is getting richer and the poor is getting poorer. India gained its independence in 1947 and since then many a thing has improved for the good while some remained stangant and possible have turned worse, the gap between the rich and the poor is one such glaring example. We have all been into 5-star restaurants and hotels, to bars and pubs, have we ever for a moment thought, have they, the person who are the root reason for our food, eaten their daily meal while we are munching onto our delicacies. Have we ever thought has the child of the rickshaw puller who brought us at our home, sweating his heart out, eaten his dinner? Have we ever thought why our maid-servant took off from duty for a few days? The answer is loud and clear. Its is NO. If we had ever taken or take a moment out of our life to think of them, probably we would have been right up in the list of developed countries i nthe world.The government of a country is as good as its people are. Little is still done to electrify the remote villages where our farmers stay. Little is done to improve the irrigation system. Little is done to facilitate transport of their commodities to the cities. Yes we do forget that they too have a family and they too have to eat to work. Money is spent on movie promotions, on sports promotions, on election campaigns, on sports persons, on building expensive hotels after hotels and what not. Does our society really need it? Are we just to the people, who are our primary cause of survival. I certainly don&#039;t think so. We are blessed with money, to eke out our survival but where is equality? Is it not our responsibility to look after them, much like they are looking after us? We are irresponsible in that sense I must say. In a team, when one player does bad, the other is there to compensate for it, the result is a victory but where is this compensation in out society? Is the money we have entirely for ourselves and not meant to be provided to others, who really don&#039;t have even the smallest fragment of what we have. Its when we will compensate for this poverty amongst the poor, will be become a top nation and will really deserve to feel proud being a cosmopolite. We don&#039;t need a 50K smart phone to meet our daily needs, we can manage with a 10K one, we can share the rest 40K amongst those who may never even know what a phone is. The happiness gained in doing such a deed, is indeed an acheivement. Smile is the most precious gift. Alas! I live in a society which knows little about gifting it.I may say it once more as many of them have done but I don&#039;t think a page of essay will change the upcoming days. The poor will still live believing that they are the cursed lot. They won&#039;t get food, medicine, health-care, home and every little thing they crave for. The poor boy of 5 years will still need to beg in the railway station when I will come back home from college, as he has for the past 1 year I have seen. To sum up all I would say is, let yout needs be met, not your greeds. Think of others too along with yo'"
      ]
     },
     "execution_count": 10,
     "metadata": {},
     "output_type": "execute_result"
    }
   ],
   "source": [
    "essay[-1]"
   ]
  },
  {
   "cell_type": "code",
   "execution_count": 11,
   "metadata": {},
   "outputs": [],
   "source": [
    "import transformers\n",
    "tokenizer = transformers.BertTokenizer.from_pretrained(\"bert-base-uncased\", do_lower_case = False)"
   ]
  },
  {
   "cell_type": "code",
   "execution_count": 12,
   "metadata": {},
   "outputs": [
    {
     "name": "stderr",
     "output_type": "stream",
     "text": [
      "Truncation was not explicitly activated but `max_length` is provided a specific value, please use `truncation=True` to explicitly truncate examples to max length. Defaulting to 'longest_first' truncation strategy. If you encode pairs of sequences (GLUE-style) with the tokenizer you can select this strategy more precisely by providing a specific strategy to `truncation`.\n"
     ]
    }
   ],
   "source": [
    "a = [len(tokenizer.encode_plus(i, None, max_length = 1000)['input_ids']) for i in essay]"
   ]
  },
  {
   "cell_type": "code",
   "execution_count": 35,
   "metadata": {},
   "outputs": [
    {
     "data": {
      "text/plain": [
       "[1, 1, 1, 1, 1, 1, 1, 1]"
      ]
     },
     "execution_count": 35,
     "metadata": {},
     "output_type": "execute_result"
    }
   ],
   "source": [
    "tokenizer.encode_plus(\"bruh [MASK] lmao\" , None, max_length = 1000)['attention_mask']"
   ]
  },
  {
   "cell_type": "code",
   "execution_count": 13,
   "metadata": {},
   "outputs": [],
   "source": [
    "a.sort()"
   ]
  },
  {
   "cell_type": "code",
   "execution_count": 23,
   "metadata": {},
   "outputs": [
    {
     "data": {
      "text/plain": [
       "526"
      ]
     },
     "execution_count": 23,
     "metadata": {},
     "output_type": "execute_result"
    }
   ],
   "source": [
    "a[-16]"
   ]
  },
  {
   "cell_type": "code",
   "execution_count": null,
   "metadata": {},
   "outputs": [],
   "source": []
  }
 ],
 "metadata": {
  "kernelspec": {
   "display_name": "Python 3",
   "language": "python",
   "name": "python3"
  },
  "language_info": {
   "codemirror_mode": {
    "name": "ipython",
    "version": 3
   },
   "file_extension": ".py",
   "mimetype": "text/x-python",
   "name": "python",
   "nbconvert_exporter": "python",
   "pygments_lexer": "ipython3",
   "version": "3.8.5"
  }
 },
 "nbformat": 4,
 "nbformat_minor": 4
}
